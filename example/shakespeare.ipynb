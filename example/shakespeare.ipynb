{
 "cells": [
  {
   "cell_type": "markdown",
   "metadata": {},
   "source": [
    "## Imports\n"
   ]
  },
  {
   "cell_type": "code",
   "execution_count": 1,
   "metadata": {},
   "outputs": [],
   "source": [
    "%load_ext autoreload\n",
    "%autoreload 2"
   ]
  },
  {
   "cell_type": "code",
   "execution_count": 2,
   "metadata": {},
   "outputs": [
    {
     "name": "stdout",
     "output_type": "stream",
     "text": [
      "pytorch version: 2.4.0\n",
      "True\n",
      "True\n"
     ]
    },
    {
     "name": "stderr",
     "output_type": "stream",
     "text": [
      "/Users/kelly/Wilke/scratch-llm_pytorch/example/../helpers/trainer.py:17: SyntaxWarning: invalid escape sequence '\\S'\n",
      "  print(f\"\\n\\Step {step + 1}/{max_steps} -\", metrics_print)\n"
     ]
    }
   ],
   "source": [
    "import sys\n",
    "\n",
    "sys.path.append(\"..\")\n",
    "\n",
    "from pathlib import Path\n",
    "import matplotlib.pyplot as plt\n",
    "import torch\n",
    "from torch.utils.data import DataLoader\n",
    "\n",
    "from model.llm import LLM\n",
    "from model.tokenizer import Tokenizer, train_tokenizer\n",
    "\n",
    "from helpers.dataset import NextTokenPredictionDataset\n",
    "from helpers.trainer import train\n",
    "from helpers.config import LLMConfig, TrainingConfig, get_device\n",
    "\n",
    "print(f\"pytorch version: {torch.__version__}\")\n",
    "\n",
    "# Is MPS even available? macOS 12.3+\n",
    "print(torch.backends.mps.is_available())\n",
    "\n",
    "# Was the current version of PyTorch built with MPS activated?\n",
    "print(torch.backends.mps.is_built())"
   ]
  },
  {
   "cell_type": "markdown",
   "metadata": {},
   "source": [
    "## Set config\n"
   ]
  },
  {
   "cell_type": "code",
   "execution_count": 3,
   "metadata": {},
   "outputs": [],
   "source": [
    "# specifies achitecture and hyperparameters of the language model\n",
    "llm_config = LLMConfig(\n",
    "    # size of the vocab the model can understand\n",
    "    vocab_size=4096,\n",
    "    # max sequence length of the input tokens; # of tokens model can process in 1 forward pass\n",
    "    seq_len=128,\n",
    "    # dimensionality of embedding vectors; each token in vocab is repped by vector of this size\n",
    "    dim_emb=256,\n",
    "    # num of layers (or transformer blocks) in the model; each consists of sub-layers like self-attention and feedforward\n",
    "    num_layers=4,\n",
    "    # num of attention heads in the multi-head attention mechanism\n",
    "    num_heads=8,\n",
    "    # dropout rate applied to embedding layer to prevent overfitting\n",
    "    emb_dropout=0.0,\n",
    "    # dimensionality of hidden layer in feedforward network; typically a multiple of 'dim-emb'\n",
    "    ffn_dim_hidden=4 * 256,\n",
    "    # whether to include a bias term in the feedforward network layers\n",
    "    ffn_bias=False,\n",
    ")\n",
    "\n",
    "# specifies parameters and settings for training the language model\n",
    "train_config = TrainingConfig(\n",
    "    # whether to retrain the tokenizer or not \n",
    "    retrain_tokenizer=False,\n",
    "    # specifies the device to train the model on\n",
    "    device=get_device(),\n",
    "    # num of samples per batch of training\n",
    "    batch_size=64,\n",
    "    # learning rate for the optimizer; controls how much to adjust the weights w/ respect to the loss gradient\n",
    "    learning_rate=3e-4,\n",
    "    # weight decay parameter; helps prevent overfitting by penalizing large weights\n",
    "    weight_decay=1e-5,\n",
    "    # max number of epochs (full passes thru training dataset) to train the model for\n",
    "    max_epochs=1,\n",
    "    # freq of logging training process (1 = logging after every batch/epoch)\n",
    "    log_frequency=1,\n",
    ")"
   ]
  },
  {
   "cell_type": "markdown",
   "metadata": {},
   "source": [
    "## Prepare tokenizer and dataset\n"
   ]
  },
  {
   "cell_type": "code",
   "execution_count": 4,
   "metadata": {},
   "outputs": [],
   "source": [
    "# specifies path to input text file used for training or retraining tokenizer\n",
    "input_file = \"../data/shakespeare/tinyshakespeare.txt\"\n",
    "# creates new file path for tokenizer model by changing suffix of input file\n",
    "output_file = Path(input_file).with_suffix(\".model\")\n",
    "\n",
    "# checks whether tokenizer model file alr exists or if config specifies to retrain tokenizer\n",
    "if not output_file.exists() or train_config.retrain_tokenizer:\n",
    "    # train tokenizer sing input text file and specified vocab size from 'LLMConfig'\n",
    "    train_tokenizer(input_file, llm_config.vocab_size)\n",
    "\n",
    "# initialize tokenizer by loading it from 'output_file'\n",
    "tokenizer = Tokenizer(str(output_file))"
   ]
  },
  {
   "cell_type": "code",
   "execution_count": 5,
   "metadata": {},
   "outputs": [
    {
     "name": "stdout",
     "output_type": "stream",
     "text": [
      "['▁Before', '▁we', '▁proceed', '▁any', '▁further', ',', '▁hear', '▁me', '▁speak', '.']\n"
     ]
    }
   ],
   "source": [
    "# defines a string 'sentence' that will be tokenized\n",
    "sentence = \"Before we proceed any further, hear me speak.\"\n",
    "# uses 'EncodeAsPieces' method from 'tokenizer.sp' object to tokenize sentence into tokens and outputs them\n",
    "print(tokenizer.sp.EncodeAsPieces(sentence))\n",
    "\n",
    "# ensures that the encoding and decoding returns the original sentence\n",
    "assert tokenizer.decode(tokenizer.encode(sentence)) == sentence"
   ]
  },
  {
   "cell_type": "code",
   "execution_count": 6,
   "metadata": {},
   "outputs": [
    {
     "name": "stdout",
     "output_type": "stream",
     "text": [
      "torch.Size([64, 128]) torch.Size([64, 128])\n"
     ]
    }
   ],
   "source": [
    "# This helper class allow to generate batches of inputs and targets where targets last element is the next token to predict\n",
    "\n",
    "# initializes instance of 'NextTokenPredictionDataset' class; dataset responsible for generating batches of input sequences and corresponding target sequences for training\n",
    "ds_train = NextTokenPredictionDataset(input_file, llm_config.seq_len, tokenizer)\n",
    "# initializes 'Dataloader' instance that's responsible for creating batches of data from the dataset\n",
    "dl_train = DataLoader(ds_train, batch_size=train_config.batch_size, shuffle=True)\n",
    "\n",
    "# iterates over the batches generates by the data loader\n",
    "for inputs, labels in dl_train:\n",
    "    # prints shapes of 'inputs' and 'labels' tensors; helps verify dimensions of batches\n",
    "    print(inputs.shape, labels.shape)\n",
    "    break"
   ]
  },
  {
   "cell_type": "markdown",
   "metadata": {},
   "source": [
    "## Define model\n"
   ]
  },
  {
   "cell_type": "code",
   "execution_count": 7,
   "metadata": {},
   "outputs": [
    {
     "name": "stdout",
     "output_type": "stream",
     "text": [
      "total params: 12,597,504\n",
      "model size: 48.243MB\n"
     ]
    }
   ],
   "source": [
    "# initializes instance of 'LLM' class; represents the language model\n",
    "model = LLM(\n",
    "    # size of the vocabulary (# of unique tokens)\n",
    "    vocab_size=tokenizer.vocab_size,\n",
    "    # max sequence length (# of tokens per input sequence)\n",
    "    seq_len=llm_config.seq_len,\n",
    "    # dimensionality of embeddings vectors\n",
    "    dim_emb=llm_config.dim_emb,\n",
    "    # number of layers (transformer block) in the model\n",
    "    num_layers=llm_config.num_layers,\n",
    "    # number of attention heads in the multi-head attention mechanism\n",
    "    attn_num_heads=llm_config.num_heads,\n",
    "    # dropout rate applied to the embedding layer\n",
    "    emb_dropout=llm_config.emb_dropout,\n",
    "    # dimensionality of the hidden layer in the feedforward network\n",
    "    ffn_hidden_dim=llm_config.ffn_dim_hidden,\n",
    "    # whether to include a bias term in the feedforward network layers\n",
    "    ffn_bias=llm_config.ffn_bias,\n",
    ")\n",
    "\n",
    "# calc total size of model parameters in bytes by summing product of # of elements and size of each element for each parameter tensor\n",
    "params_size = sum(p.nelement() * p.element_size() for p in model.parameters())\n",
    "# calc total size of model buffers (running avgs for batch normalization) in bytes in a similar manner\n",
    "buffer_size = sum(p.nelement() * p.element_size() for p in model.buffers())\n",
    "# converts total size from bytes to megabytes by dividing by 1024**2\n",
    "size = (params_size + buffer_size) / 1024**2\n",
    "\n",
    "# print total # of parameters in the model\n",
    "print(f\"total params: {sum(p.numel() for p in model.parameters()):,d}\")\n",
    "# print total size of the model in megabites, formatted to 3 decimal places\n",
    "print(f\"model size: {size:.3f}MB\")\n",
    "\n",
    "# print(model)"
   ]
  },
  {
   "cell_type": "markdown",
   "metadata": {},
   "source": [
    "## Count parameters"
   ]
  },
  {
   "cell_type": "code",
   "execution_count": 8,
   "metadata": {},
   "outputs": [
    {
     "name": "stdout",
     "output_type": "stream",
     "text": [
      "+----------------------------------------------+------------+\n",
      "|                   Modules                    | Parameters |\n",
      "+----------------------------------------------+------------+\n",
      "|            token_embedding.weight            |  1048576   |\n",
      "|         transformer.0.norm_attn.gain         |    256     |\n",
      "| transformer.0.multihead_attn.proj_qkv.weight |   196608   |\n",
      "| transformer.0.multihead_attn.proj_out.weight |   65536    |\n",
      "|         transformer.0.norm_ffn.gain          |    256     |\n",
      "|     transformer.0.feed_forward.0.weight      |   262144   |\n",
      "|  transformer.0.feed_forward.1.linear.weight  |  2097152   |\n",
      "|   transformer.0.feed_forward.1.linear.bias   |    2048    |\n",
      "|     transformer.0.feed_forward.2.weight      |   262144   |\n",
      "|         transformer.1.norm_attn.gain         |    256     |\n",
      "| transformer.1.multihead_attn.proj_qkv.weight |   196608   |\n",
      "| transformer.1.multihead_attn.proj_out.weight |   65536    |\n",
      "|         transformer.1.norm_ffn.gain          |    256     |\n",
      "|     transformer.1.feed_forward.0.weight      |   262144   |\n",
      "|  transformer.1.feed_forward.1.linear.weight  |  2097152   |\n",
      "|   transformer.1.feed_forward.1.linear.bias   |    2048    |\n",
      "|     transformer.1.feed_forward.2.weight      |   262144   |\n",
      "|         transformer.2.norm_attn.gain         |    256     |\n",
      "| transformer.2.multihead_attn.proj_qkv.weight |   196608   |\n",
      "| transformer.2.multihead_attn.proj_out.weight |   65536    |\n",
      "|         transformer.2.norm_ffn.gain          |    256     |\n",
      "|     transformer.2.feed_forward.0.weight      |   262144   |\n",
      "|  transformer.2.feed_forward.1.linear.weight  |  2097152   |\n",
      "|   transformer.2.feed_forward.1.linear.bias   |    2048    |\n",
      "|     transformer.2.feed_forward.2.weight      |   262144   |\n",
      "|         transformer.3.norm_attn.gain         |    256     |\n",
      "| transformer.3.multihead_attn.proj_qkv.weight |   196608   |\n",
      "| transformer.3.multihead_attn.proj_out.weight |   65536    |\n",
      "|         transformer.3.norm_ffn.gain          |    256     |\n",
      "|     transformer.3.feed_forward.0.weight      |   262144   |\n",
      "|  transformer.3.feed_forward.1.linear.weight  |  2097152   |\n",
      "|   transformer.3.feed_forward.1.linear.bias   |    2048    |\n",
      "|     transformer.3.feed_forward.2.weight      |   262144   |\n",
      "|                  norm.gain                   |    256     |\n",
      "|             projection_head.bias             |    4096    |\n",
      "+----------------------------------------------+------------+\n",
      "Total Trainable Params: 12597504\n",
      "\n"
     ]
    },
    {
     "data": {
      "text/plain": [
       "12597504"
      ]
     },
     "execution_count": 8,
     "metadata": {},
     "output_type": "execute_result"
    }
   ],
   "source": [
    "from prettytable import PrettyTable\n",
    "\n",
    "def count_parameters(model):\n",
    "    table = PrettyTable([\"Modules\", \"Parameters\"])\n",
    "    total_params = 0\n",
    "    for name, parameter in model.named_parameters():\n",
    "        if not parameter.requires_grad:\n",
    "            continue\n",
    "        params = parameter.numel()\n",
    "        table.add_row([name, params])\n",
    "        total_params += params\n",
    "    print(table)\n",
    "    print(f\"Total Trainable Params: {total_params}\\n\")\n",
    "    return total_params\n",
    "\n",
    "count_parameters(model)"
   ]
  },
  {
   "cell_type": "markdown",
   "metadata": {},
   "source": [
    "## Train model\n"
   ]
  },
  {
   "cell_type": "code",
   "execution_count": 9,
   "metadata": {},
   "outputs": [
    {
     "name": "stdout",
     "output_type": "stream",
     "text": [
      "Training on mps.\n",
      "Epoch 1/1:\n",
      "Step 5539/5539 - LR:0.0003 - train_loss: 1.012\n"
     ]
    }
   ],
   "source": [
    "# calls 'train' fxn to train the language model\n",
    "loss_history = train(\n",
    "    # language model instance to be trained\n",
    "    model,\n",
    "    # data loader that provides batches of training data\n",
    "    dl_train,\n",
    "    # device on which to train the model\n",
    "    train_config.device,\n",
    "    # learning rate for the optimizer\n",
    "    lr=train_config.learning_rate,\n",
    "    # max num of epochs to train the model\n",
    "    max_epochs=train_config.max_epochs,\n",
    "    # weight decay parameter to prevent overfitting\n",
    "    weight_decay=train_config.weight_decay,\n",
    "    # frequency of logging training progress\n",
    "    log_every=train_config.log_frequency,\n",
    ")"
   ]
  },
  {
   "cell_type": "code",
   "execution_count": 10,
   "metadata": {},
   "outputs": [
    {
     "name": "stderr",
     "output_type": "stream",
     "text": [
      "/Users/kelly/Wilke/scratch-llm_pytorch/example/../helpers/trainer.py:17: SyntaxWarning: invalid escape sequence '\\S'\n",
      "  print(f\"\\n\\Step {step + 1}/{max_steps} -\", metrics_print)\n"
     ]
    },
    {
     "data": {
      "image/png": "[encoded data removed]",
      "text/plain": [
       "<Figure size 1200x400 with 1 Axes>"
      ]
     },
     "metadata": {},
     "output_type": "display_data"
    }
   ],
   "source": [
    "# creates new figure and axis object for the plot and sets the size of the figure\n",
    "fig, ax = plt.subplots(figsize=(12, 4))\n",
    "# line plots training loss over time\n",
    "# x-axis: seq of ints from 0 to len of 'train_loss' list minus 1\n",
    "# y-axis: recorded training loss values\n",
    "ax.plot(range(len(loss_history[\"train_loss\"])), loss_history[\"train_loss\"])\n",
    "# sets label for the x-axis \n",
    "ax.set_xlabel(\"step\")\n",
    "# sets label for the y-axis\n",
    "ax.set_ylabel(\"cross entropy loss\")\n",
    "# adds horizontal grid lines to the plot, making it easier to read the y-axis values\n",
    "ax.grid(axis=\"y\")"
   ]
  },
  {
   "cell_type": "markdown",
   "metadata": {},
   "source": [
    "## Play around\n"
   ]
  },
  {
   "cell_type": "code",
   "execution_count": 11,
   "metadata": {},
   "outputs": [
    {
     "data": {
      "text/plain": [
       "'A KING RICHARD III: Well, I will be satisfied. QUEEN ELI ⁇ ABETH: Send, by at your stands upon all a royal ear, Give them thy words before any keen soul. Go, hon we imawn to the court Forbidcy'"
      ]
     },
     "execution_count": 11,
     "metadata": {},
     "output_type": "execute_result"
    }
   ],
   "source": [
    "# empty prompt to generate random stuff\n",
    "# create 2D tensor w/ 1 row and 'llm_config.seq_len' cols, filled w/ the end-of-seq token ID and containing 32-bit ints\n",
    "prompt = torch.full((1, llm_config.seq_len), tokenizer.eos_id, dtype=torch.int32)\n",
    "# moves tensor to specified device for efficient computation\n",
    "prompt = prompt.to(train_config.device)\n",
    "\n",
    "# generates seq of tokens using the model starting from the 'prompt'\n",
    "out = model.generate(prompt, max_seq_len=64)\n",
    "# decodes generated seq of token IDs back into a human-readable string\n",
    "tokenizer.decode(out.tolist())"
   ]
  },
  {
   "cell_type": "code",
   "execution_count": 12,
   "metadata": {},
   "outputs": [
    {
     "data": {
      "text/plain": [
       "'KING HENRY VI: Sons, what we have almost cause? DUKE OF YORK: No, good my lord; let me see the writing here, Yrab thus makes a uses set down this postment. HENRY BOLINGBROKE: Mine'"
      ]
     },
     "execution_count": 12,
     "metadata": {},
     "output_type": "execute_result"
    }
   ],
   "source": [
    "# generate from a prompt\n",
    "# encodes string into seq of token IDs using the tokenizer\n",
    "prompt = tokenizer.encode(\n",
    "    # prompt text to be encoded \n",
    "    \"KING HENRY VI:\",\n",
    "    # indicates this is the beginning of the string\n",
    "    beg_of_string=True,\n",
    "    # pads the sequence to the specified length\n",
    "    pad_seq=True,\n",
    "    # length to which the sequence should be padded or truncated\n",
    "    seq_len=llm_config.seq_len,\n",
    ")\n",
    "# converts encoded prompt to a PyTorch tensor and moves it to the specified device\n",
    "# 'torch.tensor(prompt, dtype=torch.int32)' converts prompt to a tensor w/ 32-bit int type\n",
    "# '.unsqueeze(0)' adds extra dimension at the beginning, making the tensor shape '(1, seq_len)'\n",
    "# '.to(train_config.device)' moves the tensor to the specified device\n",
    "inputs = torch.tensor(prompt, dtype=torch.int32).unsqueeze(0).to(train_config.device)\n",
    "# generates seq of tokens starting from the given prompt\n",
    "out = model.generate(inputs, max_seq_len=64)\n",
    "# decodes generated seq of token IDs back into a human-readable string\n",
    "tokenizer.decode(out.tolist())"
   ]
  },
  {
   "cell_type": "markdown",
   "metadata": {},
   "source": [
    "## Export to ONNX format"
   ]
  },
  {
   "cell_type": "code",
   "execution_count": 13,
   "metadata": {},
   "outputs": [],
   "source": [
    "import torch.onnx\n",
    "\n",
    "# generate tensor of random ints betweem 0 and vocab size\n",
    "# (64, 128) is shape of tensor: 64 = batch size, 128 = sequence length\n",
    "dummy_input = torch.randint(0, tokenizer.vocab_size, (64, 128), dtype=torch.int32).to(train_config.device)\n",
    "\n",
    "torch.onnx.export(model,   # trained model to convert to ONNX format\n",
    "                  dummy_input,   # tensor that mimics input to model; used to trace model and determine input and output shapes\n",
    "                  \"shakespeare_model.onnx\",   # name of file to save ONNX model to\n",
    "                )"
   ]
  }
 ],
 "metadata": {
  "kernelspec": {
   "display_name": "scratch-llm",
   "language": "python",
   "name": "python3"
  },
  "language_info": {
   "codemirror_mode": {
    "name": "ipython",
    "version": 3
   },
   "file_extension": ".py",
   "mimetype": "text/x-python",
   "name": "python",
   "nbconvert_exporter": "python",
   "pygments_lexer": "ipython3",
   "version": "3.12.5"
  },
  "orig_nbformat": 4
 },
 "nbformat": 4,
 "nbformat_minor": 2
}
